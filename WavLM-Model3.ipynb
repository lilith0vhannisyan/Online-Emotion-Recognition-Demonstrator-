{
 "cells": [
  {
   "cell_type": "code",
   "execution_count": 2,
   "id": "4aaecc02-19b5-47d6-bf43-e8034a4d478d",
   "metadata": {},
   "outputs": [
    {
     "name": "stderr",
     "output_type": "stream",
     "text": [
      "/home/lilit.hovhannisyan/.local/lib/python3.10/site-packages/huggingface_hub/file_download.py:896: FutureWarning: `resume_download` is deprecated and will be removed in version 1.0.0. Downloads always resume when possible. If you want to force a new download, use `force_download=True`.\n",
      "  warnings.warn(\n",
      "Some weights of WavLMForSequenceClassification were not initialized from the model checkpoint at microsoft/wavlm-base-plus and are newly initialized: ['classifier.bias', 'classifier.weight', 'encoder.pos_conv_embed.conv.parametrizations.weight.original0', 'encoder.pos_conv_embed.conv.parametrizations.weight.original1', 'projector.bias', 'projector.weight']\n",
      "You should probably TRAIN this model on a down-stream task to be able to use it for predictions and inference.\n",
      "/usr/local/lib/python3.10/dist-packages/transformers/optimization.py:457: FutureWarning: This implementation of AdamW is deprecated and will be removed in a future version. Use the PyTorch implementation torch.optim.AdamW instead, or set `no_deprecation_warning=True` to disable this warning\n",
      "  warnings.warn(\n"
     ]
    },
    {
     "name": "stdout",
     "output_type": "stream",
     "text": [
      "CUDA Available: True\n",
      "Device being used: cuda\n"
     ]
    },
    {
     "name": "stderr",
     "output_type": "stream",
     "text": [
      "Epoch 1 Training:   0%|          | 0/3196 [00:00<?, ?it/s]/home/lilit.hovhannisyan/.local/lib/python3.10/site-packages/torch/nn/functional.py:5962: UserWarning: Support for mismatched key_padding_mask and attn_mask is deprecated. Use same type for both instead.\n",
      "  warnings.warn(\n",
      "Epoch 1 Training: 100%|██████████| 3196/3196 [27:55<00:00,  1.91it/s]\n"
     ]
    },
    {
     "name": "stdout",
     "output_type": "stream",
     "text": [
      "Epoch 1 - Avg Train Loss: 0.9385\n"
     ]
    },
    {
     "name": "stderr",
     "output_type": "stream",
     "text": [
      "Epoch 1 Validation: 100%|██████████| 800/800 [03:22<00:00,  3.95it/s]\n"
     ]
    },
    {
     "name": "stdout",
     "output_type": "stream",
     "text": [
      "Epoch 1 Summary:\n",
      "  Train Loss     : 0.9385\n",
      "  Validation Loss: 1.7058\n",
      "  Accuracy       : 0.4059\n",
      "  F1 Score       : 0.3246\n",
      "Model improved and saved to ./wavlm_finetuned_bs16_lr2e-05_wd0.05_ep50_ga2_Lilit\n"
     ]
    },
    {
     "name": "stderr",
     "output_type": "stream",
     "text": [
      "Epoch 2 Training:   0%|          | 0/3196 [00:00<?, ?it/s]/home/lilit.hovhannisyan/.local/lib/python3.10/site-packages/torch/nn/functional.py:5962: UserWarning: Support for mismatched key_padding_mask and attn_mask is deprecated. Use same type for both instead.\n",
      "  warnings.warn(\n",
      "Epoch 2 Training: 100%|██████████| 3196/3196 [27:03<00:00,  1.97it/s]\n"
     ]
    },
    {
     "name": "stdout",
     "output_type": "stream",
     "text": [
      "Epoch 2 - Avg Train Loss: 0.8144\n"
     ]
    },
    {
     "name": "stderr",
     "output_type": "stream",
     "text": [
      "Epoch 2 Validation: 100%|██████████| 800/800 [03:01<00:00,  4.40it/s]\n"
     ]
    },
    {
     "name": "stdout",
     "output_type": "stream",
     "text": [
      "Epoch 2 Summary:\n",
      "  Train Loss     : 0.8144\n",
      "  Validation Loss: 1.5474\n",
      "  Accuracy       : 0.4552\n",
      "  F1 Score       : 0.3833\n",
      "Model improved and saved to ./wavlm_finetuned_bs16_lr2e-05_wd0.05_ep50_ga2_Lilit\n"
     ]
    },
    {
     "name": "stderr",
     "output_type": "stream",
     "text": [
      "Epoch 3 Training:   0%|          | 0/3196 [00:00<?, ?it/s]/home/lilit.hovhannisyan/.local/lib/python3.10/site-packages/torch/nn/functional.py:5962: UserWarning: Support for mismatched key_padding_mask and attn_mask is deprecated. Use same type for both instead.\n",
      "  warnings.warn(\n",
      "Epoch 3 Training: 100%|██████████| 3196/3196 [27:02<00:00,  1.97it/s]\n"
     ]
    },
    {
     "name": "stdout",
     "output_type": "stream",
     "text": [
      "Epoch 3 - Avg Train Loss: 0.7569\n"
     ]
    },
    {
     "name": "stderr",
     "output_type": "stream",
     "text": [
      "Epoch 3 Validation: 100%|██████████| 800/800 [03:01<00:00,  4.40it/s]\n"
     ]
    },
    {
     "name": "stdout",
     "output_type": "stream",
     "text": [
      "Epoch 3 Summary:\n",
      "  Train Loss     : 0.7569\n",
      "  Validation Loss: 1.5440\n",
      "  Accuracy       : 0.4627\n",
      "  F1 Score       : 0.3966\n",
      "Model improved and saved to ./wavlm_finetuned_bs16_lr2e-05_wd0.05_ep50_ga2_Lilit\n"
     ]
    },
    {
     "name": "stderr",
     "output_type": "stream",
     "text": [
      "Epoch 4 Training:   0%|          | 0/3196 [00:00<?, ?it/s]/home/lilit.hovhannisyan/.local/lib/python3.10/site-packages/torch/nn/functional.py:5962: UserWarning: Support for mismatched key_padding_mask and attn_mask is deprecated. Use same type for both instead.\n",
      "  warnings.warn(\n",
      "Epoch 4 Training:  23%|██▎       | 746/3196 [06:18<20:51,  1.96it/s]IOPub message rate exceeded.\n",
      "The Jupyter server will temporarily stop sending output\n",
      "to the client in order to avoid crashing it.\n",
      "To change this limit, set the config variable\n",
      "`--ServerApp.iopub_msg_rate_limit`.\n",
      "\n",
      "Current values:\n",
      "ServerApp.iopub_msg_rate_limit=1000.0 (msgs/sec)\n",
      "ServerApp.rate_limit_window=3.0 (secs)\n",
      "\n",
      "Epoch 4 Training: 100%|██████████| 3196/3196 [27:05<00:00,  1.97it/s]\n"
     ]
    },
    {
     "name": "stdout",
     "output_type": "stream",
     "text": [
      "Epoch 4 - Avg Train Loss: 0.7078\n"
     ]
    },
    {
     "name": "stderr",
     "output_type": "stream",
     "text": [
      "Epoch 4 Validation: 100%|██████████| 800/800 [03:01<00:00,  4.41it/s]\n"
     ]
    },
    {
     "name": "stdout",
     "output_type": "stream",
     "text": [
      "Epoch 4 Summary:\n",
      "  Train Loss     : 0.7078\n",
      "  Validation Loss: 1.5135\n",
      "  Accuracy       : 0.4638\n",
      "  F1 Score       : 0.4127\n",
      "Model improved and saved to ./wavlm_finetuned_bs16_lr2e-05_wd0.05_ep50_ga2_Lilit\n"
     ]
    },
    {
     "name": "stderr",
     "output_type": "stream",
     "text": [
      "Epoch 5 Training:   0%|          | 0/3196 [00:00<?, ?it/s]/home/lilit.hovhannisyan/.local/lib/python3.10/site-packages/torch/nn/functional.py:5962: UserWarning: Support for mismatched key_padding_mask and attn_mask is deprecated. Use same type for both instead.\n",
      "  warnings.warn(\n",
      "Epoch 5 Training: 100%|██████████| 3196/3196 [27:09<00:00,  1.96it/s]\n"
     ]
    },
    {
     "name": "stdout",
     "output_type": "stream",
     "text": [
      "Epoch 5 - Avg Train Loss: 0.6546\n"
     ]
    },
    {
     "name": "stderr",
     "output_type": "stream",
     "text": [
      "Epoch 5 Validation: 100%|██████████| 800/800 [03:00<00:00,  4.43it/s]\n"
     ]
    },
    {
     "name": "stdout",
     "output_type": "stream",
     "text": [
      "Epoch 5 Summary:\n",
      "  Train Loss     : 0.6546\n",
      "  Validation Loss: 1.5880\n",
      "  Accuracy       : 0.4436\n",
      "  F1 Score       : 0.4110\n"
     ]
    },
    {
     "name": "stderr",
     "output_type": "stream",
     "text": [
      "Epoch 6 Training:   0%|          | 0/3196 [00:00<?, ?it/s]/home/lilit.hovhannisyan/.local/lib/python3.10/site-packages/torch/nn/functional.py:5962: UserWarning: Support for mismatched key_padding_mask and attn_mask is deprecated. Use same type for both instead.\n",
      "  warnings.warn(\n",
      "Epoch 6 Training: 100%|██████████| 3196/3196 [27:08<00:00,  1.96it/s]\n"
     ]
    },
    {
     "name": "stdout",
     "output_type": "stream",
     "text": [
      "Epoch 6 - Avg Train Loss: 0.6002\n"
     ]
    },
    {
     "name": "stderr",
     "output_type": "stream",
     "text": [
      "Epoch 6 Validation: 100%|██████████| 800/800 [03:01<00:00,  4.40it/s]\n"
     ]
    },
    {
     "name": "stdout",
     "output_type": "stream",
     "text": [
      "Epoch 6 Summary:\n",
      "  Train Loss     : 0.6002\n",
      "  Validation Loss: 1.6226\n",
      "  Accuracy       : 0.4521\n",
      "  F1 Score       : 0.4209\n",
      "Model improved and saved to ./wavlm_finetuned_bs16_lr2e-05_wd0.05_ep50_ga2_Lilit\n"
     ]
    },
    {
     "name": "stderr",
     "output_type": "stream",
     "text": [
      "Epoch 7 Training:   0%|          | 0/3196 [00:00<?, ?it/s]/home/lilit.hovhannisyan/.local/lib/python3.10/site-packages/torch/nn/functional.py:5962: UserWarning: Support for mismatched key_padding_mask and attn_mask is deprecated. Use same type for both instead.\n",
      "  warnings.warn(\n",
      "Epoch 7 Training: 100%|██████████| 3196/3196 [27:06<00:00,  1.96it/s]\n"
     ]
    },
    {
     "name": "stdout",
     "output_type": "stream",
     "text": [
      "Epoch 7 - Avg Train Loss: 0.5419\n"
     ]
    },
    {
     "name": "stderr",
     "output_type": "stream",
     "text": [
      "Epoch 7 Validation: 100%|██████████| 800/800 [03:00<00:00,  4.42it/s]\n"
     ]
    },
    {
     "name": "stdout",
     "output_type": "stream",
     "text": [
      "Epoch 7 Summary:\n",
      "  Train Loss     : 0.5419\n",
      "  Validation Loss: 1.7674\n",
      "  Accuracy       : 0.4239\n",
      "  F1 Score       : 0.4139\n"
     ]
    },
    {
     "name": "stderr",
     "output_type": "stream",
     "text": [
      "Epoch 8 Training:   0%|          | 0/3196 [00:00<?, ?it/s]/home/lilit.hovhannisyan/.local/lib/python3.10/site-packages/torch/nn/functional.py:5962: UserWarning: Support for mismatched key_padding_mask and attn_mask is deprecated. Use same type for both instead.\n",
      "  warnings.warn(\n",
      "Epoch 8 Training: 100%|██████████| 3196/3196 [27:01<00:00,  1.97it/s]\n"
     ]
    },
    {
     "name": "stdout",
     "output_type": "stream",
     "text": [
      "Epoch 8 - Avg Train Loss: 0.4879\n"
     ]
    },
    {
     "name": "stderr",
     "output_type": "stream",
     "text": [
      "Epoch 8 Validation: 100%|██████████| 800/800 [03:02<00:00,  4.39it/s]\n"
     ]
    },
    {
     "name": "stdout",
     "output_type": "stream",
     "text": [
      "Epoch 8 Summary:\n",
      "  Train Loss     : 0.4879\n",
      "  Validation Loss: 1.8720\n",
      "  Accuracy       : 0.4241\n",
      "  F1 Score       : 0.4103\n"
     ]
    },
    {
     "name": "stderr",
     "output_type": "stream",
     "text": [
      "Epoch 9 Training:   0%|          | 0/3196 [00:00<?, ?it/s]/home/lilit.hovhannisyan/.local/lib/python3.10/site-packages/torch/nn/functional.py:5962: UserWarning: Support for mismatched key_padding_mask and attn_mask is deprecated. Use same type for both instead.\n",
      "  warnings.warn(\n",
      "Epoch 9 Training: 100%|██████████| 3196/3196 [27:03<00:00,  1.97it/s]\n"
     ]
    },
    {
     "name": "stdout",
     "output_type": "stream",
     "text": [
      "Epoch 9 - Avg Train Loss: 0.4421\n"
     ]
    },
    {
     "name": "stderr",
     "output_type": "stream",
     "text": [
      "Epoch 9 Validation: 100%|██████████| 800/800 [03:00<00:00,  4.42it/s]\n"
     ]
    },
    {
     "name": "stdout",
     "output_type": "stream",
     "text": [
      "Epoch 9 Summary:\n",
      "  Train Loss     : 0.4421\n",
      "  Validation Loss: 2.0278\n",
      "  Accuracy       : 0.4094\n",
      "  F1 Score       : 0.4091\n"
     ]
    },
    {
     "name": "stderr",
     "output_type": "stream",
     "text": [
      "Epoch 10 Training:   0%|          | 0/3196 [00:00<?, ?it/s]/home/lilit.hovhannisyan/.local/lib/python3.10/site-packages/torch/nn/functional.py:5962: UserWarning: Support for mismatched key_padding_mask and attn_mask is deprecated. Use same type for both instead.\n",
      "  warnings.warn(\n",
      "Epoch 10 Training: 100%|██████████| 3196/3196 [27:07<00:00,  1.96it/s]\n"
     ]
    },
    {
     "name": "stdout",
     "output_type": "stream",
     "text": [
      "Epoch 10 - Avg Train Loss: 0.3862\n"
     ]
    },
    {
     "name": "stderr",
     "output_type": "stream",
     "text": [
      "Epoch 10 Validation: 100%|██████████| 800/800 [03:01<00:00,  4.40it/s]\n"
     ]
    },
    {
     "name": "stdout",
     "output_type": "stream",
     "text": [
      "Epoch 10 Summary:\n",
      "  Train Loss     : 0.3862\n",
      "  Validation Loss: 2.2285\n",
      "  Accuracy       : 0.3773\n",
      "  F1 Score       : 0.3906\n"
     ]
    },
    {
     "name": "stderr",
     "output_type": "stream",
     "text": [
      "Epoch 11 Training:   0%|          | 0/3196 [00:00<?, ?it/s]/home/lilit.hovhannisyan/.local/lib/python3.10/site-packages/torch/nn/functional.py:5962: UserWarning: Support for mismatched key_padding_mask and attn_mask is deprecated. Use same type for both instead.\n",
      "  warnings.warn(\n",
      "Epoch 11 Training: 100%|██████████| 3196/3196 [27:01<00:00,  1.97it/s]\n"
     ]
    },
    {
     "name": "stdout",
     "output_type": "stream",
     "text": [
      "Epoch 11 - Avg Train Loss: 0.3485\n"
     ]
    },
    {
     "name": "stderr",
     "output_type": "stream",
     "text": [
      "Epoch 11 Validation: 100%|██████████| 800/800 [03:01<00:00,  4.41it/s]\n"
     ]
    },
    {
     "name": "stdout",
     "output_type": "stream",
     "text": [
      "Epoch 11 Summary:\n",
      "  Train Loss     : 0.3485\n",
      "  Validation Loss: 2.3214\n",
      "  Accuracy       : 0.4000\n",
      "  F1 Score       : 0.4006\n"
     ]
    },
    {
     "name": "stderr",
     "output_type": "stream",
     "text": [
      "Epoch 12 Training:   0%|          | 0/3196 [00:00<?, ?it/s]/home/lilit.hovhannisyan/.local/lib/python3.10/site-packages/torch/nn/functional.py:5962: UserWarning: Support for mismatched key_padding_mask and attn_mask is deprecated. Use same type for both instead.\n",
      "  warnings.warn(\n",
      "Epoch 12 Training: 100%|██████████| 3196/3196 [27:02<00:00,  1.97it/s]\n"
     ]
    },
    {
     "name": "stdout",
     "output_type": "stream",
     "text": [
      "Epoch 12 - Avg Train Loss: 0.3144\n"
     ]
    },
    {
     "name": "stderr",
     "output_type": "stream",
     "text": [
      "Epoch 12 Validation: 100%|██████████| 800/800 [03:01<00:00,  4.41it/s]\n"
     ]
    },
    {
     "name": "stdout",
     "output_type": "stream",
     "text": [
      "Epoch 12 Summary:\n",
      "  Train Loss     : 0.3144\n",
      "  Validation Loss: 2.4206\n",
      "  Accuracy       : 0.4115\n",
      "  F1 Score       : 0.4073\n"
     ]
    },
    {
     "name": "stderr",
     "output_type": "stream",
     "text": [
      "Epoch 13 Training:   0%|          | 0/3196 [00:00<?, ?it/s]/home/lilit.hovhannisyan/.local/lib/python3.10/site-packages/torch/nn/functional.py:5962: UserWarning: Support for mismatched key_padding_mask and attn_mask is deprecated. Use same type for both instead.\n",
      "  warnings.warn(\n",
      "Epoch 13 Training: 100%|██████████| 3196/3196 [27:02<00:00,  1.97it/s]\n"
     ]
    },
    {
     "name": "stdout",
     "output_type": "stream",
     "text": [
      "Epoch 13 - Avg Train Loss: 0.2807\n"
     ]
    },
    {
     "name": "stderr",
     "output_type": "stream",
     "text": [
      "Epoch 13 Validation: 100%|██████████| 800/800 [02:59<00:00,  4.45it/s]\n"
     ]
    },
    {
     "name": "stdout",
     "output_type": "stream",
     "text": [
      "Epoch 13 Summary:\n",
      "  Train Loss     : 0.2807\n",
      "  Validation Loss: 2.5916\n",
      "  Accuracy       : 0.3965\n",
      "  F1 Score       : 0.3982\n",
      "Early stopping triggered at epoch 13\n"
     ]
    },
    {
     "data": {
      "image/png": "[encoded data removed]",
      "text/plain": [
       "<Figure size 1000x600 with 1 Axes>"
      ]
     },
     "metadata": {},
     "output_type": "display_data"
    }
   ],
   "source": [
    "import pandas as pd\n",
    "from sklearn.model_selection import train_test_split\n",
    "from transformers import AutoFeatureExtractor, WavLMForSequenceClassification, AdamW, get_linear_schedule_with_warmup, DataCollatorWithPadding\n",
    "import torch\n",
    "import torchaudio\n",
    "from torch.utils.data import Dataset, DataLoader\n",
    "from sklearn.metrics import accuracy_score, f1_score\n",
    "from tqdm import tqdm\n",
    "import os\n",
    "import matplotlib.pyplot as plt\n",
    "import numpy as np\n",
    "\n",
    "# --- 1. Data Loading and Splitting ---\n",
    "labels_csv_path = \"/projects/pdd/IS2025_Podcast_Challenge/Labels/labels_consensus.csv\"\n",
    "audio_base_path = \"/projects/pdd/IS2025_Podcast_Challenge/Audios\"\n",
    "\n",
    "df = pd.read_csv(labels_csv_path)\n",
    "df_dev = df[df['Split_Set'] == 'Development'].copy()\n",
    "\n",
    "# Define emotion mapping\n",
    "emotion_map = {\n",
    "    'A': 0, 'S': 1, 'H': 2, 'U': 3, 'F': 4,\n",
    "    'D': 5, 'C': 6, 'N': 7, 'O': 8, 'X': 9\n",
    "}\n",
    "\n",
    "# Map EmoClass to numeric label\n",
    "df_dev['label_id'] = df_dev['EmoClass'].map(emotion_map)\n",
    "num_labels = len(emotion_map)\n",
    "\n",
    "# Assuming your audio file name is in a column named 'FileName'\n",
    "df_dev['audio_path'] = df_dev['FileName'].apply(lambda x: f\"{audio_base_path}/{x}\")\n",
    "\n",
    "# Split into training and validation sets\n",
    "train_df, val_df = train_test_split(df_dev, test_size=0.2, random_state=42, stratify=df_dev['label_id'])\n",
    "\n",
    "# --- 2. Dataset Class ---\n",
    "class EmotionDataset(Dataset):\n",
    "    def __init__(self, df, feature_extractor):\n",
    "        self.df = df.reset_index(drop=True)\n",
    "        self.feature_extractor = feature_extractor\n",
    "\n",
    "    def __len__(self):\n",
    "        return len(self.df)\n",
    "\n",
    "    def __getitem__(self, idx):\n",
    "        row = self.df.loc[idx]\n",
    "        audio_path = row['audio_path']\n",
    "        label = row['label_id']\n",
    "        try:\n",
    "            waveform, sr = torchaudio.load(audio_path)\n",
    "            if sr != 16000:\n",
    "                resampler = torchaudio.transforms.Resample(orig_freq=sr, new_freq=16000)\n",
    "                waveform = resampler(waveform)\n",
    "            inputs = self.feature_extractor(\n",
    "                waveform.squeeze().numpy(), sampling_rate=16000, return_tensors=\"pt\"\n",
    "            )\n",
    "            return {\n",
    "                \"input_values\": inputs.input_values.squeeze(0),\n",
    "                \"attention_mask\": inputs.attention_mask.squeeze(0),\n",
    "                \"labels\": torch.tensor(label)\n",
    "            }\n",
    "        except Exception as e:\n",
    "            print(f\"Error loading audio at {audio_path}: {e}\")\n",
    "            return None\n",
    "\n",
    "# --- 3. Load Feature Extractor and Model ---\n",
    "model_name = \"microsoft/wavlm-base-plus\"\n",
    "extractor = AutoFeatureExtractor.from_pretrained(model_name)\n",
    "model = WavLMForSequenceClassification.from_pretrained(\n",
    "    model_name,\n",
    "    num_labels=num_labels,\n",
    "    problem_type=\"single_label_classification\"\n",
    ")\n",
    "\n",
    "# --- 4. Create DataLoaders with DataCollatorWithPadding ---\n",
    "data_collator = DataCollatorWithPadding(extractor, padding=True)\n",
    "\n",
    "train_dataset = EmotionDataset(train_df, extractor)\n",
    "val_dataset = EmotionDataset(val_df, extractor)\n",
    "train_loader = DataLoader(train_dataset, batch_size=8, shuffle=True, collate_fn=data_collator)\n",
    "val_loader = DataLoader(val_dataset, batch_size=8, shuffle=False, collate_fn=data_collator)\n",
    "\n",
    "# --- HYPERPARAMETERS ---\n",
    "learning_rate = 2e-5  # Experimenting with a slightly higher learning rate\n",
    "num_epochs = 50\n",
    "patience = 7  # Increased patience\n",
    "weight_decay = 0.05 # Experimenting with slightly higher weight decay\n",
    "gradient_accumulation_steps = 2 # Simulate larger batch size\n",
    "\n",
    "# Dynamic output directory\n",
    "output_dir = f\"./wavlm_finetuned_bs{8*gradient_accumulation_steps}_lr{learning_rate}_wd{weight_decay}_ep{num_epochs}_ga{gradient_accumulation_steps}_Lilit\"\n",
    "os.makedirs(output_dir, exist_ok=True)\n",
    "\n",
    "# Initialize model, optimizer, scheduler\n",
    "device = torch.device(\"cuda\" if torch.cuda.is_available() else \"cpu\")\n",
    "\n",
    "# --- DEBUG PRINT ---\n",
    "print(f\"CUDA Available: {torch.cuda.is_available()}\")\n",
    "print(f\"Device being used: {device}\")\n",
    "# --- END DEBUG PRINT ---\n",
    "\n",
    "model.to(device)\n",
    "\n",
    "optimizer = AdamW(model.parameters(), lr=learning_rate, weight_decay=weight_decay)\n",
    "total_steps = (len(train_loader) // gradient_accumulation_steps) * num_epochs\n",
    "scheduler = get_linear_schedule_with_warmup(optimizer, num_warmup_steps=0, num_training_steps=total_steps)\n",
    "\n",
    "# Trackers\n",
    "train_losses = []\n",
    "val_losses = []\n",
    "best_f1 = 0\n",
    "epochs_without_improvement = 0\n",
    "\n",
    "# --- TRAINING LOOP ---\n",
    "for epoch in range(num_epochs):\n",
    "    model.train()\n",
    "    total_train_loss = 0\n",
    "    optimizer.zero_grad() # Reset gradients at the beginning of each epoch\n",
    "    for step, batch in enumerate(tqdm(train_loader, desc=f\"Epoch {epoch+1} Training\")):\n",
    "        if batch is None:\n",
    "            continue\n",
    "        input_values = batch[\"input_values\"].to(device)\n",
    "        attention_mask = batch[\"attention_mask\"].to(device)\n",
    "        labels = batch[\"labels\"].to(device)\n",
    "\n",
    "        outputs = model(input_values=input_values, attention_mask=attention_mask, labels=labels)\n",
    "        loss = outputs.loss\n",
    "        loss = loss / gradient_accumulation_steps # Normalize loss for gradient accumulation\n",
    "        total_train_loss += loss.item()\n",
    "\n",
    "        loss.backward()\n",
    "\n",
    "        if (step + 1) % gradient_accumulation_steps == 0:\n",
    "            optimizer.step()\n",
    "            scheduler.step()\n",
    "            optimizer.zero_grad()\n",
    "\n",
    "    avg_train_loss = total_train_loss / len(train_loader)\n",
    "    train_losses.append(avg_train_loss)\n",
    "    print(f\"Epoch {epoch+1} - Avg Train Loss: {avg_train_loss:.4f}\")\n",
    "\n",
    "    # --- Validation ---\n",
    "    model.eval()\n",
    "    total_eval_loss = 0\n",
    "    all_predictions = []\n",
    "    all_labels = []\n",
    "\n",
    "    with torch.no_grad():\n",
    "        for batch in tqdm(val_loader, desc=f\"Epoch {epoch+1} Validation\"):\n",
    "            if batch is None:\n",
    "                continue\n",
    "            input_values = batch[\"input_values\"].to(device)\n",
    "            attention_mask = batch[\"attention_mask\"].to(device)\n",
    "            labels = batch[\"labels\"].to(device)\n",
    "\n",
    "            outputs = model(input_values=input_values, attention_mask=attention_mask, labels=labels)\n",
    "            loss = outputs.loss\n",
    "            total_eval_loss += loss.item()\n",
    "\n",
    "            logits = outputs.logits\n",
    "            predictions = torch.argmax(logits, dim=-1)\n",
    "            all_predictions.extend(predictions.cpu().numpy())\n",
    "            all_labels.extend(labels.cpu().numpy())\n",
    "\n",
    "    avg_val_loss = total_eval_loss / len(val_loader)\n",
    "    val_losses.append(avg_val_loss)\n",
    "\n",
    "    accuracy = accuracy_score(all_labels, all_predictions)\n",
    "    f1 = f1_score(all_labels, all_predictions, average='weighted')\n",
    "    print(f\"Epoch {epoch+1} Summary:\")\n",
    "    print(f\"  Train Loss     : {avg_train_loss:.4f}\")\n",
    "    print(f\"  Validation Loss: {avg_val_loss:.4f}\")\n",
    "    print(f\"  Accuracy       : {accuracy:.4f}\")\n",
    "    print(f\"  F1 Score       : {f1:.4f}\")\n",
    "\n",
    "    # --- Early Stopping ---\n",
    "    if f1 > best_f1:\n",
    "        best_f1 = f1\n",
    "        epochs_without_improvement = 0\n",
    "        model.save_pretrained(output_dir)\n",
    "        extractor.save_pretrained(output_dir)\n",
    "        print(f\"Model improved and saved to {output_dir}\")\n",
    "    else:\n",
    "        epochs_without_improvement += 1\n",
    "        if epochs_without_improvement >= patience:\n",
    "            print(f\"Early stopping triggered at epoch {epoch+1}\")\n",
    "            break\n",
    "\n",
    "# --- Save Losses as CSV ---\n",
    "loss_df = pd.DataFrame({\n",
    "    'epoch': list(range(1, len(train_losses) + 1)),\n",
    "    'train_loss': train_losses,\n",
    "    'val_loss': val_losses\n",
    "})\n",
    "loss_df.to_csv(f\"{output_dir}/losses.csv\", index=False)\n",
    "\n",
    "# --- Plot and Save Loss Curve ---\n",
    "plt.figure(figsize=(10, 6))\n",
    "plt.plot(loss_df['epoch'], loss_df['train_loss'], label='Train Loss')\n",
    "plt.plot(loss_df['epoch'], loss_df['val_loss'], label='Validation Loss')\n",
    "plt.xlabel(\"Epoch\")\n",
    "plt.ylabel(\"Loss\")\n",
    "plt.title(\"Train/Validation Loss Curve\")\n",
    "plt.legend()\n",
    "plt.grid(True)\n",
    "plt.tight_layout()\n",
    "plt.savefig(f\"{output_dir}/loss_curve.png\")\n",
    "plt.show()"
   ]
  },
  {
   "cell_type": "code",
   "execution_count": null,
   "id": "102ba26d-c4dd-4cdc-92bf-c18dbc836440",
   "metadata": {},
   "outputs": [],
   "source": []
  }
 ],
 "metadata": {
  "kernelspec": {
   "display_name": "Python 3 (ipykernel)",
   "language": "python",
   "name": "python3"
  },
  "language_info": {
   "codemirror_mode": {
    "name": "ipython",
    "version": 3
   },
   "file_extension": ".py",
   "mimetype": "text/x-python",
   "name": "python",
   "nbconvert_exporter": "python",
   "pygments_lexer": "ipython3",
   "version": "3.10.12"
  }
 },
 "nbformat": 4,
 "nbformat_minor": 5
}
